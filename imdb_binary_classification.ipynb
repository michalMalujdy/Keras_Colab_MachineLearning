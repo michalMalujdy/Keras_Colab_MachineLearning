{
  "nbformat": 4,
  "nbformat_minor": 0,
  "metadata": {
    "colab": {
      "name": "imdb-binary-classification.ipynb",
      "version": "0.3.2",
      "provenance": [],
      "collapsed_sections": [],
      "include_colab_link": true
    },
    "kernelspec": {
      "name": "python3",
      "display_name": "Python 3"
    },
    "accelerator": "GPU"
  },
  "cells": [
    {
      "cell_type": "markdown",
      "metadata": {
        "id": "view-in-github",
        "colab_type": "text"
      },
      "source": [
        "[View in Colaboratory](https://colab.research.google.com/github/michalMalujdy/machine-learning-colab/blob/master/imdb_binary_classification.ipynb)"
      ]
    },
    {
      "metadata": {
        "id": "WqU9lOWV67wN",
        "colab_type": "text"
      },
      "cell_type": "markdown",
      "source": [
        "# Binary classification with Keras\n",
        "Learning binary classification of film reviews (positive or negative) from IMDB using Keras framework"
      ]
    },
    {
      "metadata": {
        "id": "kdQHSHqH5-Ps",
        "colab_type": "code",
        "colab": {
          "base_uri": "https://localhost:8080/",
          "height": 68
        },
        "outputId": "8fdffbcd-06d1-4db0-8d72-c9d64488388e"
      },
      "cell_type": "code",
      "source": [
        "from keras.datasets import imdb\n",
        "\n",
        "(train_data, train_labels), (test_data, test_labels) = imdb.load_data(num_words=10000)"
      ],
      "execution_count": 1,
      "outputs": [
        {
          "output_type": "stream",
          "text": [
            "Using TensorFlow backend.\n"
          ],
          "name": "stderr"
        },
        {
          "output_type": "stream",
          "text": [
            "Downloading data from https://s3.amazonaws.com/text-datasets/imdb.npz\n",
            "17465344/17464789 [==============================] - 4s 0us/step\n"
          ],
          "name": "stdout"
        }
      ]
    },
    {
      "metadata": {
        "id": "w-QcKMVv66tX",
        "colab_type": "text"
      },
      "cell_type": "markdown",
      "source": [
        "\n",
        "\n",
        "---\n",
        "\n"
      ]
    },
    {
      "metadata": {
        "id": "W66wRcI-qWds",
        "colab_type": "text"
      },
      "cell_type": "markdown",
      "source": [
        "Function preprocessing a single review by transforming a list of integers to numpy one demensional array (a vector) where all values are zeros except for the indexes that corresponds to the list numbers (keys for words), where the value is set to 1."
      ]
    },
    {
      "metadata": {
        "id": "DxDHXxHfqWjy",
        "colab_type": "code",
        "colab": {}
      },
      "cell_type": "code",
      "source": [
        "import numpy as np\n",
        "\n",
        "def preprocessReview(review):\n",
        "  preprocessedVector = np.zeros(10000)\n",
        "  \n",
        "  for index in review:\n",
        "    preprocessedVector[index] = 1\n",
        "  \n",
        "  return preprocessedVector"
      ],
      "execution_count": 0,
      "outputs": []
    },
    {
      "metadata": {
        "id": "OgAodAtNqWpt",
        "colab_type": "text"
      },
      "cell_type": "markdown",
      "source": [
        "\n",
        "\n",
        "---\n",
        "\n"
      ]
    },
    {
      "metadata": {
        "id": "BtVTo2rHyoaz",
        "colab_type": "text"
      },
      "cell_type": "markdown",
      "source": [
        "Function that does the trick mentioned above for all reviews in passed list of lists, so the return type is numpy array."
      ]
    },
    {
      "metadata": {
        "id": "yOnFCqUGyoi3",
        "colab_type": "code",
        "colab": {}
      },
      "cell_type": "code",
      "source": [
        "def preprocessReviews(reviews):\n",
        "\n",
        "  input_array = np.empty([len(train_data), 10000])\n",
        "\n",
        "  for i, review in enumerate(reviews):\n",
        "    input_array[i] = preprocessReview(review)\n",
        "    \n",
        "  return input_array"
      ],
      "execution_count": 0,
      "outputs": []
    },
    {
      "metadata": {
        "id": "ELvXb3EDyopX",
        "colab_type": "text"
      },
      "cell_type": "markdown",
      "source": [
        "\n",
        "\n",
        "---\n",
        "\n"
      ]
    },
    {
      "metadata": {
        "id": "aa3OneEhslAG",
        "colab_type": "text"
      },
      "cell_type": "markdown",
      "source": [
        "Preprocess input data and labels data. The latter needs to be float32 numpay array, so the transformation is simple from int to float. But the input is preprocessed by adequate functions stated previously."
      ]
    },
    {
      "metadata": {
        "id": "LBTboCrNslGM",
        "colab_type": "code",
        "colab": {}
      },
      "cell_type": "code",
      "source": [
        "input_train = preprocessReviews(train_data)\n",
        "input_test = preprocessReviews(test_data)\n",
        "\n",
        "train_labels = np.array(train_labels).astype('float32')\n",
        "test_labels = np.array(test_labels).astype('float32')"
      ],
      "execution_count": 0,
      "outputs": []
    },
    {
      "metadata": {
        "id": "KP3NYJpXslSW",
        "colab_type": "text"
      },
      "cell_type": "markdown",
      "source": [
        "\n",
        "\n",
        "---\n",
        "\n"
      ]
    },
    {
      "metadata": {
        "id": "QtcJZO0V0Nwo",
        "colab_type": "text"
      },
      "cell_type": "markdown",
      "source": [
        "Create the network model"
      ]
    },
    {
      "metadata": {
        "id": "13CESLET0N18",
        "colab_type": "code",
        "colab": {}
      },
      "cell_type": "code",
      "source": [
        "from keras.models import Sequential\n",
        "from keras.layers import Dense, Activation\n",
        "\n",
        "net = Sequential()\n",
        "net.add(Dense(16, activation = 'relu', input_dim = 10000))\n",
        "net.add(Dense(16, activation = 'relu'))\n",
        "net.add(Dense(1, activation = 'sigmoid'))\n",
        "\n",
        "net.compile(optimizer = 'rmsprop',\n",
        "           loss = 'binary_crossentropy',\n",
        "           metrics = ['accuracy'])"
      ],
      "execution_count": 0,
      "outputs": []
    },
    {
      "metadata": {
        "id": "DZ_CHD6W0N8d",
        "colab_type": "text"
      },
      "cell_type": "markdown",
      "source": [
        "\n",
        "\n",
        "---\n",
        "\n"
      ]
    },
    {
      "metadata": {
        "id": "CTuZWx4g3p5S",
        "colab_type": "text"
      },
      "cell_type": "markdown",
      "source": [
        "Actual network learning."
      ]
    },
    {
      "metadata": {
        "id": "D_Y1ah-63p9R",
        "colab_type": "code",
        "colab": {
          "base_uri": "https://localhost:8080/",
          "height": 697
        },
        "outputId": "165fb163-5ade-4f10-f094-851a1d5b0397"
      },
      "cell_type": "code",
      "source": [
        "training_history = net.fit(\n",
        "    input_train, \n",
        "    train_labels, \n",
        "    epochs = 20, \n",
        "    batch_size = 512)"
      ],
      "execution_count": 6,
      "outputs": [
        {
          "output_type": "stream",
          "text": [
            "Epoch 1/20\n",
            "25000/25000 [==============================] - 2s 99us/step - loss: 0.4496 - acc: 0.8165\n",
            "Epoch 2/20\n",
            "25000/25000 [==============================] - 1s 59us/step - loss: 0.2552 - acc: 0.9094\n",
            "Epoch 3/20\n",
            "25000/25000 [==============================] - 1s 57us/step - loss: 0.1969 - acc: 0.9298\n",
            "Epoch 4/20\n",
            "25000/25000 [==============================] - 1s 58us/step - loss: 0.1669 - acc: 0.9409\n",
            "Epoch 5/20\n",
            "25000/25000 [==============================] - 1s 58us/step - loss: 0.1431 - acc: 0.9485\n",
            "Epoch 6/20\n",
            "25000/25000 [==============================] - 1s 58us/step - loss: 0.1266 - acc: 0.9562\n",
            "Epoch 7/20\n",
            "25000/25000 [==============================] - 1s 57us/step - loss: 0.1128 - acc: 0.9609\n",
            "Epoch 8/20\n",
            "25000/25000 [==============================] - 1s 58us/step - loss: 0.1010 - acc: 0.9650\n",
            "Epoch 9/20\n",
            " 7680/25000 [========>.....................] - ETA: 1s - loss: 0.0779 - acc: 0.9742"
          ],
          "name": "stdout"
        },
        {
          "output_type": "stream",
          "text": [
            "25000/25000 [==============================] - 1s 58us/step - loss: 0.0903 - acc: 0.9686\n",
            "Epoch 10/20\n",
            "25000/25000 [==============================] - 1s 56us/step - loss: 0.0810 - acc: 0.9724\n",
            "Epoch 11/20\n",
            "25000/25000 [==============================] - 1s 57us/step - loss: 0.0738 - acc: 0.9753\n",
            "Epoch 12/20\n",
            "25000/25000 [==============================] - 1s 56us/step - loss: 0.0641 - acc: 0.9792\n",
            "Epoch 13/20\n",
            "25000/25000 [==============================] - 1s 58us/step - loss: 0.0611 - acc: 0.9793\n",
            "Epoch 14/20\n",
            "25000/25000 [==============================] - 1s 58us/step - loss: 0.0499 - acc: 0.9845\n",
            "Epoch 15/20\n",
            "25000/25000 [==============================] - 1s 58us/step - loss: 0.0470 - acc: 0.9850\n",
            "Epoch 16/20\n",
            "25000/25000 [==============================] - 1s 57us/step - loss: 0.0388 - acc: 0.9891\n",
            "Epoch 17/20\n",
            " 9728/25000 [==========>...................] - ETA: 0s - loss: 0.0353 - acc: 0.9901"
          ],
          "name": "stdout"
        },
        {
          "output_type": "stream",
          "text": [
            "25000/25000 [==============================] - 1s 58us/step - loss: 0.0374 - acc: 0.9888\n",
            "Epoch 18/20\n",
            "25000/25000 [==============================] - 1s 60us/step - loss: 0.0294 - acc: 0.9921\n",
            "Epoch 19/20\n",
            "25000/25000 [==============================] - 1s 57us/step - loss: 0.0266 - acc: 0.9923\n",
            "Epoch 20/20\n",
            "25000/25000 [==============================] - 1s 58us/step - loss: 0.0261 - acc: 0.9921\n"
          ],
          "name": "stdout"
        }
      ]
    },
    {
      "metadata": {
        "id": "V8wL1L2i3qBZ",
        "colab_type": "text"
      },
      "cell_type": "markdown",
      "source": [
        "\n",
        "\n",
        "---\n",
        "\n"
      ]
    },
    {
      "metadata": {
        "id": "up-kas066O_l",
        "colab_type": "text"
      },
      "cell_type": "markdown",
      "source": [
        "Display the accuraccy on test data"
      ]
    },
    {
      "metadata": {
        "id": "azG4vzqc6PFN",
        "colab_type": "code",
        "colab": {
          "base_uri": "https://localhost:8080/",
          "height": 51
        },
        "outputId": "1b607dd0-46a8-490a-da26-86772e14c3dd"
      },
      "cell_type": "code",
      "source": [
        "(_, accuracy) = net.evaluate(input_test, test_labels)\n",
        "print(accuracy)"
      ],
      "execution_count": 7,
      "outputs": [
        {
          "output_type": "stream",
          "text": [
            "25000/25000 [==============================] - 3s 130us/step\n",
            "0.84904\n"
          ],
          "name": "stdout"
        }
      ]
    },
    {
      "metadata": {
        "id": "E4ozzKii6PKQ",
        "colab_type": "text"
      },
      "cell_type": "markdown",
      "source": [
        "\n",
        "\n",
        "---\n",
        "\n"
      ]
    },
    {
      "metadata": {
        "id": "AHF6OVn7ee-v",
        "colab_type": "text"
      },
      "cell_type": "markdown",
      "source": [
        "# Optional"
      ]
    },
    {
      "metadata": {
        "id": "Gp4Be7YE7uEB",
        "colab_type": "text"
      },
      "cell_type": "markdown",
      "source": [
        "Decode the review from a list of integers indicating the word in dictionary to a readable text. The words are not stored in a concise order, so the output may not be understandable."
      ]
    },
    {
      "metadata": {
        "id": "N14nVur57uoi",
        "colab_type": "code",
        "colab": {
          "base_uri": "https://localhost:8080/",
          "height": 88
        },
        "outputId": "f2fab5ac-aafb-45e9-8271-b852faeb49da"
      },
      "cell_type": "code",
      "source": [
        "from random import randint\n",
        "\n",
        "word_index_dict = imdb.get_word_index()\n",
        "index_word_dict = {value: key for (key, value) in word_index_dict.items()}\n",
        "\n",
        "random_review_index = randint(0, len(test_data) - 1)\n",
        "review_ints_list = test_data[random_review_index];\n",
        "review_words_list = [index_word_dict[key] for key in review_ints_list]\n",
        "review_text = ' '.join(review_words_list)\n",
        "\n",
        "print(review_text)"
      ],
      "execution_count": 8,
      "outputs": [
        {
          "output_type": "stream",
          "text": [
            "Downloading data from https://s3.amazonaws.com/text-datasets/imdb_word_index.json\n",
            "1646592/1641221 [==============================] - 1s 1us/step\n",
            "the always out vision wife of you but of how my this if derivative believe was plays good hour no that with how running this handful this of phone innocence was video looking that in at is return br etc and concept entertaining is you br as grasp precisely begins br longer just such he more good bottom slave may of shines and this to and this as you but despite this of how you and there is married starred opinion film be and all and and suave making uncomfortable this minute more it over add br be natural friends of amazing face i i by because come end cut we leaves she are grinch watching instantly who charm realizing may made to of and being slowly experience this of performance face that it remembered for and there honest is buildings they of and you church honest so plan but where sea another more but be you you prison it oh to and it other and easy watching comment this and never so and being most cult or and all it away of there's falling br of women i i reason and is surprised and was then does when was people does it for was several as you to saying for up than way just that film of ahead br close and and to and and and say music his that's audrey and to hated br as went this disappointed entertaining was big sexual in can seriously either years\n"
          ],
          "name": "stdout"
        }
      ]
    },
    {
      "metadata": {
        "id": "fSKldbQt7uxt",
        "colab_type": "text"
      },
      "cell_type": "markdown",
      "source": [
        "\n",
        "\n",
        "---\n",
        "\n"
      ]
    }
  ]
}