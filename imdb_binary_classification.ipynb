{
  "nbformat": 4,
  "nbformat_minor": 0,
  "metadata": {
    "colab": {
      "name": "imdb-binary-classification.ipynb",
      "version": "0.3.2",
      "provenance": [],
      "collapsed_sections": [],
      "include_colab_link": true
    }
  },
  "cells": [
    {
      "cell_type": "markdown",
      "metadata": {
        "id": "view-in-github",
        "colab_type": "text"
      },
      "source": [
        "[View in Colaboratory](https://colab.research.google.com/github/michalMalujdy/machine-learning-colab/blob/master/imdb_binary_classification.ipynb)"
      ]
    },
    {
      "metadata": {
        "id": "WqU9lOWV67wN",
        "colab_type": "text"
      },
      "cell_type": "markdown",
      "source": [
        "# Binary classification with Keras\n",
        "Learning binary classification of film reviews (positive or negative) from IMDB using Keras framework"
      ]
    },
    {
      "metadata": {
        "id": "kdQHSHqH5-Ps",
        "colab_type": "code",
        "colab": {}
      },
      "cell_type": "code",
      "source": [
        "from keras.datasets import imdb\n",
        "\n",
        "(train_data, train_labels), (test_data, test_labels) = imdb.load_data(num_words=10000)"
      ],
      "execution_count": 0,
      "outputs": []
    },
    {
      "metadata": {
        "id": "w-QcKMVv66tX",
        "colab_type": "text"
      },
      "cell_type": "markdown",
      "source": [
        "\n",
        "\n",
        "---\n",
        "\n"
      ]
    },
    {
      "metadata": {
        "id": "AHF6OVn7ee-v",
        "colab_type": "text"
      },
      "cell_type": "markdown",
      "source": [
        "# Optional"
      ]
    },
    {
      "metadata": {
        "id": "Gp4Be7YE7uEB",
        "colab_type": "text"
      },
      "cell_type": "markdown",
      "source": [
        "Decode the review from a list of integers indicating the word in dictionary to a readable text. The words are not stored in a concise order, so the output may not be understandable."
      ]
    },
    {
      "metadata": {
        "id": "N14nVur57uoi",
        "colab_type": "code",
        "colab": {
          "base_uri": "https://localhost:8080/",
          "height": 54
        },
        "outputId": "b02be78b-0ea4-4329-d601-e4e3d6ecfdf4"
      },
      "cell_type": "code",
      "source": [
        "from random import randint\n",
        "\n",
        "word_index_dict = imdb.get_word_index()\n",
        "index_word_dict = {value: key for (key, value) in word_index_dict.items()}\n",
        "\n",
        "random_review_index = randint(0, len(test_data) - 1)\n",
        "review_ints_list = test_data[random_review_index];\n",
        "review_words_list = [index_word_dict[key] for key in review_ints_list]\n",
        "review_text = ' '.join(review_words_list)\n",
        "\n",
        "print(review_text)"
      ],
      "execution_count": 39,
      "outputs": [
        {
          "output_type": "stream",
          "text": [
            "the such zombies is writer and i'm as reaction to expect inability on us years to them watch so stories br hunt little to mask love bad sex often faith to g br of thought portrayal lush for way lips to context and and to american of him karl from than scream this is systems cindy film past and film lips and to be marcel early decision to is convicted context and to be marcel sean to grey and basic opera directed bad also is group annoying i i  of on it this of tension and to of year del it out movie do movie of love only doctor there see attention pops stanley for somehow have well also and this man future deep hank looks in awards i'm in know of very blood it of overseas poor romantic i'm it 3rd house br of acting to countless br of seen lips otherwise are and to context otherwise are and opening against bunch having because this and from case boredom film lips whilst be right marcel having me dennis rich including been from me widmark american from and no were help effective this of cannes really it know of on usually from seem laughable in dern having because this of marcel dirty who lips movie of thought portrayal cop fraud some this of insists lips effective this fanatics they took and and this be wonderfully watch oddball and to is thought drab context effective br biased they and this shrek context with miami success to or an pierre is sole actual part feel lips with miami success to or an pierre name so joking relevant not very making find she but is quite br sounding to of thought portrayal whom of seen convincing moved afterward of lush cop i i from 1 thinking this of on to bad can any miles or and film flick before in boat budget pretends to and they having because of on it and film his out were seen indeed anyone who though until committed dressed bloodshed to rented and like out pretty were jane in also camera film having because not other film is word notice their jim is reading may interrupted bbc movie is forgotten under br of like friend is and film any to highlight movie is points truly my and to and to attempts movie is spoiled fred bbc it his do they an take what have pretty in can such would best killing of idea would world away real one lost out few they of many just as by for about heavy maybe about this even brother would half until else beautiful she dance i i don't do it as on because been no bad well look whatever of 1 much visit is annoying keep course but of on to dead in bbc in and if oh in we i i in we poor of appropriate br is and of endless br is streep shop of muscle br is idea i i of appropriate br is and of on thing also think still been as to that big also entire these what have just of to what of hadn't it times much this and final these his realistic that of chose but we it to and basic opera directed have well character any are have legacy but truth guys other same more world is far br having br of was saying final extremely\n"
          ],
          "name": "stdout"
        }
      ]
    },
    {
      "metadata": {
        "id": "fSKldbQt7uxt",
        "colab_type": "text"
      },
      "cell_type": "markdown",
      "source": [
        "\n",
        "\n",
        "---\n",
        "\n"
      ]
    }
  ]
}