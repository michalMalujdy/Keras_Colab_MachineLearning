{
  "nbformat": 4,
  "nbformat_minor": 0,
  "metadata": {
    "colab": {
      "name": "imdb-binary-classification.ipynb",
      "version": "0.3.2",
      "provenance": [],
      "collapsed_sections": [],
      "include_colab_link": true
    },
    "kernelspec": {
      "name": "python3",
      "display_name": "Python 3"
    },
    "accelerator": "GPU"
  },
  "cells": [
    {
      "cell_type": "markdown",
      "metadata": {
        "id": "view-in-github",
        "colab_type": "text"
      },
      "source": [
        "[View in Colaboratory](https://colab.research.google.com/github/michalMalujdy/machine-learning-colab/blob/master/imdb_binary_classification.ipynb)"
      ]
    },
    {
      "metadata": {
        "id": "WqU9lOWV67wN",
        "colab_type": "text"
      },
      "cell_type": "markdown",
      "source": [
        "# Binary classification with Keras\n",
        "Learning binary classification of film reviews (positive or negative) from IMDB using Keras framework"
      ]
    },
    {
      "metadata": {
        "id": "kdQHSHqH5-Ps",
        "colab_type": "code",
        "colab": {}
      },
      "cell_type": "code",
      "source": [
        "from keras.datasets import imdb\n",
        "\n",
        "(train_data, train_labels), (test_data, test_labels) = imdb.load_data(num_words=10000)"
      ],
      "execution_count": 0,
      "outputs": []
    },
    {
      "metadata": {
        "id": "w-QcKMVv66tX",
        "colab_type": "text"
      },
      "cell_type": "markdown",
      "source": [
        "\n",
        "\n",
        "---\n",
        "\n"
      ]
    },
    {
      "metadata": {
        "id": "W66wRcI-qWds",
        "colab_type": "text"
      },
      "cell_type": "markdown",
      "source": [
        "Function preprocessing a single review by transforming a list of integers to numpy one demensional array (a vector) where all values are zeros except for the indexes that corresponds to the list numbers (keys for words), where the value is set to 1."
      ]
    },
    {
      "metadata": {
        "id": "DxDHXxHfqWjy",
        "colab_type": "code",
        "colab": {}
      },
      "cell_type": "code",
      "source": [
        "import numpy as np\n",
        "\n",
        "def preprocessReview(review):\n",
        "  preprocessedVector = np.zeros(10000)\n",
        "  \n",
        "  for index in review:\n",
        "    preprocessedVector[index] = 1\n",
        "  \n",
        "  return preprocessedVector"
      ],
      "execution_count": 0,
      "outputs": []
    },
    {
      "metadata": {
        "id": "OgAodAtNqWpt",
        "colab_type": "text"
      },
      "cell_type": "markdown",
      "source": [
        "\n",
        "\n",
        "---\n",
        "\n"
      ]
    },
    {
      "metadata": {
        "id": "BtVTo2rHyoaz",
        "colab_type": "text"
      },
      "cell_type": "markdown",
      "source": [
        "Function that does the trick mentioned above for all reviews in passed list of lists, so the return type is numpy array."
      ]
    },
    {
      "metadata": {
        "id": "yOnFCqUGyoi3",
        "colab_type": "code",
        "colab": {}
      },
      "cell_type": "code",
      "source": [
        "def preprocessReviews(reviews):\n",
        "\n",
        "  input_array = np.empty([len(train_data), 10000])\n",
        "\n",
        "  for i, review in enumerate(reviews):\n",
        "    input_array[i] = preprocessReview(review)\n",
        "    \n",
        "  return input_array"
      ],
      "execution_count": 0,
      "outputs": []
    },
    {
      "metadata": {
        "id": "ELvXb3EDyopX",
        "colab_type": "text"
      },
      "cell_type": "markdown",
      "source": [
        "\n",
        "\n",
        "---\n",
        "\n"
      ]
    },
    {
      "metadata": {
        "id": "aa3OneEhslAG",
        "colab_type": "text"
      },
      "cell_type": "markdown",
      "source": [
        "Preprocess input data and labels data. The latter needs to be float32 numpay array, so the transformation is simple from int to float. But the input is preprocessed by adequate functions stated previously."
      ]
    },
    {
      "metadata": {
        "id": "LBTboCrNslGM",
        "colab_type": "code",
        "colab": {}
      },
      "cell_type": "code",
      "source": [
        "input_train = preprocessReviews(train_data)\n",
        "input_test = preprocessReviews(test_data)\n",
        "\n",
        "train_labels = np.array(train_labels).astype('float32')\n",
        "test_labels = np.array(test_labels).astype('float32')"
      ],
      "execution_count": 0,
      "outputs": []
    },
    {
      "metadata": {
        "id": "KP3NYJpXslSW",
        "colab_type": "text"
      },
      "cell_type": "markdown",
      "source": [
        "\n",
        "\n",
        "---\n",
        "\n"
      ]
    },
    {
      "metadata": {
        "id": "0jttZS_QtCn7",
        "colab_type": "text"
      },
      "cell_type": "markdown",
      "source": [
        "Divide the train data into two sets: the actual training set and a validation set used during the training (**do not mistake with test set that is used AFTER the training**)"
      ]
    },
    {
      "metadata": {
        "id": "3yzPUBJ-tCx4",
        "colab_type": "code",
        "colab": {}
      },
      "cell_type": "code",
      "source": [
        "validation_set_size = 10000\n",
        "\n",
        "input_train_validation = input_train[:validation_set_size]\n",
        "input_train_partial = input_train[validation_set_size:]\n",
        "\n",
        "train_labels_validation = train_labels[:validation_set_size]\n",
        "train_labels_partial = train_labels[validation_set_size:]"
      ],
      "execution_count": 0,
      "outputs": []
    },
    {
      "metadata": {
        "id": "ekCeDUGhtC7d",
        "colab_type": "text"
      },
      "cell_type": "markdown",
      "source": [
        "\n",
        "\n",
        "---\n",
        "\n"
      ]
    },
    {
      "metadata": {
        "id": "QtcJZO0V0Nwo",
        "colab_type": "text"
      },
      "cell_type": "markdown",
      "source": [
        "Create the network model"
      ]
    },
    {
      "metadata": {
        "id": "13CESLET0N18",
        "colab_type": "code",
        "colab": {}
      },
      "cell_type": "code",
      "source": [
        "from keras.models import Sequential\n",
        "from keras.layers import Dense, Activation\n",
        "\n",
        "net = Sequential()\n",
        "net.add(Dense(4, activation = 'sigmoid', input_dim = 10000))\n",
        "net.add(Dense(6, activation = 'sigmoid'))\n",
        "net.add(Dense(4, activation = 'sigmoid'))\n",
        "net.add(Dense(1, activation = 'sigmoid'))\n",
        "\n",
        "epochs_count = 25;\n",
        "\n",
        "net.compile(optimizer = 'rmsprop',\n",
        "           loss = 'binary_crossentropy',\n",
        "           metrics = ['accuracy'])"
      ],
      "execution_count": 0,
      "outputs": []
    },
    {
      "metadata": {
        "id": "DZ_CHD6W0N8d",
        "colab_type": "text"
      },
      "cell_type": "markdown",
      "source": [
        "\n",
        "\n",
        "---\n",
        "\n"
      ]
    },
    {
      "metadata": {
        "id": "CTuZWx4g3p5S",
        "colab_type": "text"
      },
      "cell_type": "markdown",
      "source": [
        "Actual network learning."
      ]
    },
    {
      "metadata": {
        "id": "D_Y1ah-63p9R",
        "colab_type": "code",
        "colab": {
          "base_uri": "https://localhost:8080/",
          "height": 884
        },
        "outputId": "def000c4-2a1b-4da6-a853-b5046d3429d7"
      },
      "cell_type": "code",
      "source": [
        "training_history = net.fit(\n",
        "    input_train_partial, \n",
        "    train_labels_partial, \n",
        "    epochs = epochs_count, \n",
        "    batch_size = 512,\n",
        "    validation_data=(input_train_validation, train_labels_validation))"
      ],
      "execution_count": 124,
      "outputs": [
        {
          "output_type": "stream",
          "text": [
            "Train on 15000 samples, validate on 10000 samples\n",
            "Epoch 1/25\n",
            "15000/15000 [==============================] - 2s 134us/step - loss: 0.7093 - acc: 0.4965 - val_loss: 0.6999 - val_acc: 0.5053\n",
            "Epoch 2/25\n",
            "15000/15000 [==============================] - 1s 85us/step - loss: 0.6974 - acc: 0.4965 - val_loss: 0.6913 - val_acc: 0.5053\n",
            "Epoch 3/25\n",
            "15000/15000 [==============================] - 1s 87us/step - loss: 0.6890 - acc: 0.4965 - val_loss: 0.6853 - val_acc: 0.5053\n",
            "Epoch 4/25\n",
            "15000/15000 [==============================] - 1s 87us/step - loss: 0.6830 - acc: 0.4979 - val_loss: 0.6806 - val_acc: 0.5361\n",
            "Epoch 5/25\n",
            "15000/15000 [==============================] - 1s 87us/step - loss: 0.6772 - acc: 0.7222 - val_loss: 0.6750 - val_acc: 0.8165\n",
            "Epoch 6/25\n",
            "15000/15000 [==============================] - 1s 85us/step - loss: 0.6701 - acc: 0.8639 - val_loss: 0.6680 - val_acc: 0.8584\n",
            "Epoch 7/25\n",
            "15000/15000 [==============================] - 1s 87us/step - loss: 0.6617 - acc: 0.8909 - val_loss: 0.6597 - val_acc: 0.8587\n",
            "Epoch 8/25\n",
            "15000/15000 [==============================] - 1s 86us/step - loss: 0.6516 - acc: 0.8957 - val_loss: 0.6499 - val_acc: 0.8686\n",
            "Epoch 9/25\n",
            "14848/15000 [============================>.] - ETA: 0s - loss: 0.6401 - acc: 0.9028"
          ],
          "name": "stdout"
        },
        {
          "output_type": "stream",
          "text": [
            "15000/15000 [==============================] - 1s 85us/step - loss: 0.6400 - acc: 0.9033 - val_loss: 0.6388 - val_acc: 0.8701\n",
            "Epoch 10/25\n",
            "15000/15000 [==============================] - 1s 86us/step - loss: 0.6271 - acc: 0.9069 - val_loss: 0.6267 - val_acc: 0.8762\n",
            "Epoch 11/25\n",
            "15000/15000 [==============================] - 1s 86us/step - loss: 0.6127 - acc: 0.9135 - val_loss: 0.6132 - val_acc: 0.8757\n",
            "Epoch 12/25\n",
            "15000/15000 [==============================] - 1s 87us/step - loss: 0.5967 - acc: 0.9169 - val_loss: 0.5985 - val_acc: 0.8800\n",
            "Epoch 13/25\n",
            "15000/15000 [==============================] - 1s 87us/step - loss: 0.5795 - acc: 0.9211 - val_loss: 0.5828 - val_acc: 0.8819\n",
            "Epoch 14/25\n",
            "15000/15000 [==============================] - 1s 86us/step - loss: 0.5609 - acc: 0.9248 - val_loss: 0.5662 - val_acc: 0.8838\n",
            "Epoch 15/25\n",
            "15000/15000 [==============================] - 1s 88us/step - loss: 0.5413 - acc: 0.9278 - val_loss: 0.5491 - val_acc: 0.8854\n",
            "Epoch 16/25\n",
            "15000/15000 [==============================] - 1s 85us/step - loss: 0.5211 - acc: 0.9317 - val_loss: 0.5318 - val_acc: 0.8869\n",
            "Epoch 17/25\n",
            "15000/15000 [==============================] - 1s 85us/step - loss: 0.5003 - acc: 0.9343 - val_loss: 0.5140 - val_acc: 0.8881\n",
            "Epoch 18/25\n",
            " 5632/15000 [==========>...................] - ETA: 0s - loss: 0.4856 - acc: 0.9343"
          ],
          "name": "stdout"
        },
        {
          "output_type": "stream",
          "text": [
            "15000/15000 [==============================] - 1s 86us/step - loss: 0.4790 - acc: 0.9361 - val_loss: 0.4961 - val_acc: 0.8905\n",
            "Epoch 19/25\n",
            "15000/15000 [==============================] - 1s 87us/step - loss: 0.4575 - acc: 0.9393 - val_loss: 0.4784 - val_acc: 0.8911\n",
            "Epoch 20/25\n",
            "15000/15000 [==============================] - 1s 87us/step - loss: 0.4360 - acc: 0.9415 - val_loss: 0.4612 - val_acc: 0.8899\n",
            "Epoch 21/25\n",
            "15000/15000 [==============================] - 1s 86us/step - loss: 0.4146 - acc: 0.9457 - val_loss: 0.4441 - val_acc: 0.8902\n",
            "Epoch 22/25\n",
            "15000/15000 [==============================] - 1s 87us/step - loss: 0.3933 - acc: 0.9477 - val_loss: 0.4278 - val_acc: 0.8907\n",
            "Epoch 23/25\n",
            "15000/15000 [==============================] - 1s 87us/step - loss: 0.3727 - acc: 0.9505 - val_loss: 0.4124 - val_acc: 0.8914\n",
            "Epoch 24/25\n",
            "15000/15000 [==============================] - 1s 86us/step - loss: 0.3527 - acc: 0.9527 - val_loss: 0.3981 - val_acc: 0.8925\n",
            "Epoch 25/25\n",
            "15000/15000 [==============================] - 1s 86us/step - loss: 0.3333 - acc: 0.9551 - val_loss: 0.3844 - val_acc: 0.8923\n"
          ],
          "name": "stdout"
        }
      ]
    },
    {
      "metadata": {
        "id": "V8wL1L2i3qBZ",
        "colab_type": "text"
      },
      "cell_type": "markdown",
      "source": [
        "\n",
        "\n",
        "---\n",
        "\n"
      ]
    },
    {
      "metadata": {
        "id": "up-kas066O_l",
        "colab_type": "text"
      },
      "cell_type": "markdown",
      "source": [
        "Display the accuraccy on test data"
      ]
    },
    {
      "metadata": {
        "id": "azG4vzqc6PFN",
        "colab_type": "code",
        "colab": {
          "base_uri": "https://localhost:8080/",
          "height": 51
        },
        "outputId": "0923bc6f-0b76-48d4-fa5a-0b8269e181c7"
      },
      "cell_type": "code",
      "source": [
        "(_, accuracy) = net.evaluate(input_test, test_labels)\n",
        "print(accuracy)"
      ],
      "execution_count": 125,
      "outputs": [
        {
          "output_type": "stream",
          "text": [
            "25000/25000 [==============================] - 3s 133us/step\n",
            "0.88548\n"
          ],
          "name": "stdout"
        }
      ]
    },
    {
      "metadata": {
        "id": "E4ozzKii6PKQ",
        "colab_type": "text"
      },
      "cell_type": "markdown",
      "source": [
        "\n",
        "\n",
        "---\n",
        "\n"
      ]
    },
    {
      "metadata": {
        "id": "AHF6OVn7ee-v",
        "colab_type": "text"
      },
      "cell_type": "markdown",
      "source": [
        "# Optional"
      ]
    },
    {
      "metadata": {
        "id": "Gp4Be7YE7uEB",
        "colab_type": "text"
      },
      "cell_type": "markdown",
      "source": [
        "Decode the review from a list of integers indicating the word in dictionary to a readable text. The words are not stored in a concise order, so the output may not be understandable."
      ]
    },
    {
      "metadata": {
        "id": "N14nVur57uoi",
        "colab_type": "code",
        "colab": {
          "base_uri": "https://localhost:8080/",
          "height": 54
        },
        "outputId": "0a54f5a5-bf62-4cd3-d412-f397b3d3c516"
      },
      "cell_type": "code",
      "source": [
        "from random import randint\n",
        "\n",
        "word_index_dict = imdb.get_word_index()\n",
        "index_word_dict = {value: key for (key, value) in word_index_dict.items()}\n",
        "\n",
        "random_review_index = randint(0, len(test_data) - 1)\n",
        "review_ints_list = test_data[random_review_index];\n",
        "review_words_list = [index_word_dict[key] for key in review_ints_list]\n",
        "review_text = ' '.join(review_words_list)\n",
        "\n",
        "print(review_text)"
      ],
      "execution_count": 126,
      "outputs": [
        {
          "output_type": "stream",
          "text": [
            "the as ever there in at only starts some br an of wild fact day worth just interpretation or of and other or of every spielberg as ever it is sam americans what have plain film we wonder rubbish as and was body in also of apparently some but numerous to also that some are year scene it of and tomorrow misguided and teenagers and and good br only starts rating story one in at to dozen third was other several of today replies film of apart whole for short in kay we some by br of seems was story one in air of year spielberg in adults story at of and totally says times new know of steven gay story at was then does what think br have start for lot not series by br of watched seems for total those heroine in we was let saw are black br of repeat of day original example there will scary are year her was why numerous to other interpretation or of and to false of resist of original real at scary movies bad of beginning kids in died comes emma bad kids as disturbing ever are year her wonder poetry of apparently\n"
          ],
          "name": "stdout"
        }
      ]
    },
    {
      "metadata": {
        "id": "LgsWLK3pzVjp",
        "colab_type": "text"
      },
      "cell_type": "markdown",
      "source": [
        "\n",
        "\n",
        "---\n",
        "\n"
      ]
    },
    {
      "metadata": {
        "id": "BBLwPfWdqTud",
        "colab_type": "text"
      },
      "cell_type": "markdown",
      "source": [
        "Chart showing the relation between training loss and epochs and also validation loss and epochs"
      ]
    },
    {
      "metadata": {
        "id": "hwH7wLnVqT1N",
        "colab_type": "code",
        "colab": {
          "base_uri": "https://localhost:8080/",
          "height": 376
        },
        "outputId": "2f3b15d9-47e6-464f-d1ec-beb1e8bf3b76"
      },
      "cell_type": "code",
      "source": [
        "import matplotlib.pyplot as plt\n",
        "\n",
        "history_dict = training_history.history\n",
        "loss_values = history_dict['loss']\n",
        "val_loss_values = history_dict['val_loss']\n",
        "epochs = range(1, epochs_count + 1)\n",
        "\n",
        "plt.plot(epochs, loss_values, 'bo', label='Training loss')\n",
        "plt.plot(epochs, val_loss_values, 'b', label='Validation loss')\n",
        "plt.title('Training and validation loss')\n",
        "plt.xlabel('Epochs')\n",
        "plt.ylabel('Loss')\n",
        "plt.legend()\n",
        "plt.show()"
      ],
      "execution_count": 127,
      "outputs": [
        {
          "output_type": "display_data",
          "data": {
            "image/png": "[encoded data removed]",
            "text/plain": [
              "<matplotlib.figure.Figure at 0x7f39c40c8438>"
            ]
          },
          "metadata": {
            "tags": []
          }
        }
      ]
    },
    {
      "metadata": {
        "id": "Rn4Pojm9qT9I",
        "colab_type": "text"
      },
      "cell_type": "markdown",
      "source": [
        "\n",
        "\n",
        "---\n",
        "\n"
      ]
    },
    {
      "metadata": {
        "id": "fNBE2bdasHZW",
        "colab_type": "code",
        "colab": {
          "base_uri": "https://localhost:8080/",
          "height": 376
        },
        "outputId": "2cf24900-be6f-4195-83ad-1262ca026fa8"
      },
      "cell_type": "code",
      "source": [
        "plt.clf()\n",
        "acc_values = history_dict['acc']\n",
        "val_acc_values = history_dict['val_acc']\n",
        "plt.plot(epochs, val_acc_values, 'bo', label='Training acc')\n",
        "plt.plot(epochs, acc_values, 'b', label='Validation acc')\n",
        "plt.title('Training and validation accuracy')\n",
        "plt.xlabel('Epochs')\n",
        "plt.ylabel('Accuraccy')\n",
        "plt.legend()\n",
        "plt.show()"
      ],
      "execution_count": 128,
      "outputs": [
        {
          "output_type": "display_data",
          "data": {
            "image/png": "[encoded data removed]",
            "text/plain": [
              "<matplotlib.figure.Figure at 0x7f39c40c8470>"
            ]
          },
          "metadata": {
            "tags": []
          }
        }
      ]
    },
    {
      "metadata": {
        "id": "fUug4KcczzON",
        "colab_type": "text"
      },
      "cell_type": "markdown",
      "source": [
        "\n",
        "\n",
        "---\n",
        "\n"
      ]
    }
  ]
}