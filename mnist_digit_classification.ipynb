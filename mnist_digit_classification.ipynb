{
  "nbformat": 4,
  "nbformat_minor": 0,
  "metadata": {
    "colab": {
      "name": "mnist-digit-classification.ipynb",
      "version": "0.3.2",
      "provenance": [],
      "collapsed_sections": [],
      "toc_visible": true,
      "include_colab_link": true
    },
    "kernelspec": {
      "name": "python3",
      "display_name": "Python 3"
    },
    "accelerator": "GPU"
  },
  "cells": [
    {
      "cell_type": "markdown",
      "metadata": {
        "id": "view-in-github",
        "colab_type": "text"
      },
      "source": [
        "[View in Colaboratory](https://colab.research.google.com/github/michalMalujdy/machine-learning-colab/blob/master/mnist_digit_classification.ipynb)"
      ]
    },
    {
      "metadata": {
        "id": "KzCAl5976zS8",
        "colab_type": "text"
      },
      "cell_type": "markdown",
      "source": [
        "# Main\n",
        "Learn classifying digits from images included in MNIST datasets\n"
      ]
    },
    {
      "metadata": {
        "id": "cV2ES1JZAt8f",
        "colab_type": "text"
      },
      "cell_type": "markdown",
      "source": [
        "\n",
        "\n",
        "---\n",
        "\n"
      ]
    },
    {
      "metadata": {
        "id": "EF4PKNFy6e7a",
        "colab_type": "text"
      },
      "cell_type": "markdown",
      "source": [
        "Create and initialize a two-layer network with categorical classification as output"
      ]
    },
    {
      "metadata": {
        "id": "vV3dmwyiaKqy",
        "colab_type": "code",
        "colab": {}
      },
      "cell_type": "code",
      "source": [
        "!pip install -q keras \n",
        "import numpy as np\n",
        "import keras\n",
        "from keras import models\n",
        "from keras import layers\n",
        "\n",
        "network = models.Sequential()\n",
        "network.add(layers.Dense(512, activation = 'relu', input_shape=(28 * 28,)))\n",
        "network.add(layers.Dense(10, activation = 'softmax'))\n",
        "network.compile(optimizer = 'rmsprop',\n",
        "               loss = 'categorical_crossentropy',\n",
        "               metrics = ['accuracy'])"
      ],
      "execution_count": 0,
      "outputs": []
    },
    {
      "metadata": {
        "id": "biQS5GFR4-xe",
        "colab_type": "text"
      },
      "cell_type": "markdown",
      "source": [
        "\n",
        "\n",
        "---\n",
        "\n",
        "\n",
        "\n",
        "\n"
      ]
    },
    {
      "metadata": {
        "id": "oGY4Ym2w70MN",
        "colab_type": "text"
      },
      "cell_type": "markdown",
      "source": [
        "Load training and test datasets into numpy arrays"
      ]
    },
    {
      "metadata": {
        "id": "3eIu89l_eyOx",
        "colab_type": "code",
        "colab": {
          "base_uri": "https://localhost:8080/",
          "height": 37
        },
        "outputId": "9265a654-0d23-47b3-ddcb-fa06547b9434"
      },
      "cell_type": "code",
      "source": [
        "from keras.datasets import mnist\n",
        "\n",
        "(train_images, train_labels), (test_images, test_labels) = mnist.load_data()"
      ],
      "execution_count": 6,
      "outputs": []
    },
    {
      "metadata": {
        "id": "rykhxwEC4jso",
        "colab_type": "text"
      },
      "cell_type": "markdown",
      "source": [
        "\n",
        "\n",
        "---\n",
        "\n"
      ]
    },
    {
      "metadata": {
        "id": "dT8pDHeq6QEE",
        "colab_type": "text"
      },
      "cell_type": "markdown",
      "source": [
        "# Optional\n",
        "\n",
        "---\n",
        "\n"
      ]
    },
    {
      "metadata": {
        "id": "wCUFrEAS4QAW",
        "colab_type": "text"
      },
      "cell_type": "markdown",
      "source": [
        "Display random digit image from the train set"
      ]
    },
    {
      "metadata": {
        "id": "THOCYmKbwh2m",
        "colab_type": "code",
        "colab": {
          "base_uri": "https://localhost:8080/",
          "height": 398
        },
        "outputId": "caa72faf-cd50-490e-d67c-6262cdc2d37b"
      },
      "cell_type": "code",
      "source": [
        "from random import randint\n",
        "import matplotlib.pyplot as plt\n",
        "\n",
        "randomIndex = randint(0, len(train_images))\n",
        "print('index: ', randomIndex)\n",
        "print('label: ', train_labels[randomIndex])\n",
        "\n",
        "plt.figure().gca().grid(False)\n",
        "plt.imshow(train_images[randomIndex])"
      ],
      "execution_count": 40,
      "outputs": [
        {
          "output_type": "stream",
          "text": [
            "index:  7223\n",
            "label:  2\n"
          ],
          "name": "stdout"
        },
        {
          "output_type": "execute_result",
          "data": {
            "text/plain": [
              "<matplotlib.image.AxesImage at 0x7f85d3523e10>"
            ]
          },
          "metadata": {
            "tags": []
          },
          "execution_count": 40
        },
        {
          "output_type": "display_data",
          "data": {
            "image/png": "[encoded data removed]",
            "text/plain": [
              "<matplotlib.figure.Figure at 0x7f85d36096d8>"
            ]
          },
          "metadata": {
            "tags": []
          }
        }
      ]
    }
  ]
}