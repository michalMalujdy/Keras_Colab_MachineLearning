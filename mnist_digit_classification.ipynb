{
  "nbformat": 4,
  "nbformat_minor": 0,
  "metadata": {
    "colab": {
      "name": "mnist-digit-classification.ipynb",
      "version": "0.3.2",
      "provenance": [],
      "collapsed_sections": [],
      "toc_visible": true,
      "include_colab_link": true
    },
    "kernelspec": {
      "name": "python3",
      "display_name": "Python 3"
    },
    "accelerator": "GPU"
  },
  "cells": [
    {
      "cell_type": "markdown",
      "metadata": {
        "id": "view-in-github",
        "colab_type": "text"
      },
      "source": [
        "[View in Colaboratory](https://colab.research.google.com/github/michalMalujdy/machine-learning-colab/blob/master/mnist_digit_classification.ipynb)"
      ]
    },
    {
      "metadata": {
        "id": "KzCAl5976zS8",
        "colab_type": "text"
      },
      "cell_type": "markdown",
      "source": [
        "# Multiclass digit classification with Keras\n",
        "Learn classifying handwritten digits in range <0;9> from images included in MNIST datasets using Keras.\n"
      ]
    },
    {
      "metadata": {
        "id": "cV2ES1JZAt8f",
        "colab_type": "text"
      },
      "cell_type": "markdown",
      "source": [
        "\n",
        "\n",
        "---\n",
        "\n"
      ]
    },
    {
      "metadata": {
        "id": "EF4PKNFy6e7a",
        "colab_type": "text"
      },
      "cell_type": "markdown",
      "source": [
        "Import neccessary moduls and initialize the network model."
      ]
    },
    {
      "metadata": {
        "id": "vV3dmwyiaKqy",
        "colab_type": "code",
        "colab": {
          "base_uri": "https://localhost:8080/",
          "height": 34
        },
        "outputId": "1bcb44e4-ba3e-4f82-ddc1-b4ed986577cd"
      },
      "cell_type": "code",
      "source": [
        "!pip install -q keras \n",
        "import numpy as np\n",
        "import keras\n",
        "from keras import models\n",
        "from keras import layers\n",
        "\n",
        "network = models.Sequential()\n"
      ],
      "execution_count": 1,
      "outputs": [
        {
          "output_type": "stream",
          "text": [
            "Using TensorFlow backend.\n"
          ],
          "name": "stderr"
        }
      ]
    },
    {
      "metadata": {
        "id": "biQS5GFR4-xe",
        "colab_type": "text"
      },
      "cell_type": "markdown",
      "source": [
        "\n",
        "\n",
        "---\n",
        "\n",
        "\n",
        "\n",
        "\n"
      ]
    },
    {
      "metadata": {
        "id": "N6X06pr7TYUk",
        "colab_type": "text"
      },
      "cell_type": "markdown",
      "source": [
        "The output of the first layer is chosen to be 512 (which is arbitrary), what means that first hidden layer consists of 512 neurons. The input of the layer is also the input of the whole network, so it needs to fit the dimension of the data (train and test) which are arrays of size 28 x 28 and corresponds to images of size 28x28 pixels."
      ]
    },
    {
      "metadata": {
        "id": "KS5B7qMETUQS",
        "colab_type": "code",
        "colab": {}
      },
      "cell_type": "code",
      "source": [
        "network.add(layers.Dense(512, activation = 'relu', input_shape=(28 * 28,)))"
      ],
      "execution_count": 0,
      "outputs": []
    },
    {
      "metadata": {
        "id": "NrzkLJChTXpd",
        "colab_type": "text"
      },
      "cell_type": "markdown",
      "source": [
        "\n",
        "\n",
        "---\n",
        "\n"
      ]
    },
    {
      "metadata": {
        "id": "YbHsudmqTmsX",
        "colab_type": "text"
      },
      "cell_type": "markdown",
      "source": [
        "The second hidden layer is also a output layer of the whole network so its output needs to fit our needs. Our goal is to state the chances that given input is one of the ten digit (belongs to one of our 10 classes). The softmax function will provide that functionality by returning for every input an array  of size 10 with each index corresponding to numbers 0-9."
      ]
    },
    {
      "metadata": {
        "id": "BIup8-pKTm8F",
        "colab_type": "code",
        "colab": {}
      },
      "cell_type": "code",
      "source": [
        "network.add(layers.Dense(10, activation = 'softmax'))"
      ],
      "execution_count": 0,
      "outputs": []
    },
    {
      "metadata": {
        "id": "fJZwMkaiTnMc",
        "colab_type": "text"
      },
      "cell_type": "markdown",
      "source": [
        "\n",
        "\n",
        "---\n",
        "\n"
      ]
    },
    {
      "metadata": {
        "id": "lVW73TVxTvSr",
        "colab_type": "text"
      },
      "cell_type": "markdown",
      "source": [
        "Compile the network with chosen optimizer, loss function and desired learning feedback values."
      ]
    },
    {
      "metadata": {
        "id": "6yE-fmLfTvYf",
        "colab_type": "code",
        "colab": {}
      },
      "cell_type": "code",
      "source": [
        "network.compile(optimizer = 'rmsprop',\n",
        "               loss = 'categorical_crossentropy',\n",
        "               metrics = ['accuracy'])"
      ],
      "execution_count": 0,
      "outputs": []
    },
    {
      "metadata": {
        "id": "bcGCoe3YTvdh",
        "colab_type": "text"
      },
      "cell_type": "markdown",
      "source": [
        "\n",
        "\n",
        "---\n",
        "\n"
      ]
    },
    {
      "metadata": {
        "id": "oGY4Ym2w70MN",
        "colab_type": "text"
      },
      "cell_type": "markdown",
      "source": [
        "Load training and test datasets into numpy arrays"
      ]
    },
    {
      "metadata": {
        "id": "3eIu89l_eyOx",
        "colab_type": "code",
        "colab": {}
      },
      "cell_type": "code",
      "source": [
        "from keras.datasets import mnist\n",
        "\n",
        "(train_images, train_labels), (test_images, test_labels) = mnist.load_data()"
      ],
      "execution_count": 0,
      "outputs": []
    },
    {
      "metadata": {
        "id": "rykhxwEC4jso",
        "colab_type": "text"
      },
      "cell_type": "markdown",
      "source": [
        "\n",
        "\n",
        "---\n",
        "\n"
      ]
    },
    {
      "metadata": {
        "id": "gh_-JOoHXXXX",
        "colab_type": "text"
      },
      "cell_type": "markdown",
      "source": [
        "Squash the arrays of size 28x28 to a single vector for every input"
      ]
    },
    {
      "metadata": {
        "id": "Goep7e0MXXe_",
        "colab_type": "code",
        "colab": {}
      },
      "cell_type": "code",
      "source": [
        "train_images = train_images.reshape(60000, 28 * 28)\n",
        "test_images = test_images.reshape(10000, 28 * 28)"
      ],
      "execution_count": 0,
      "outputs": []
    },
    {
      "metadata": {
        "id": "5C-GFN1sXXmo",
        "colab_type": "text"
      },
      "cell_type": "markdown",
      "source": [
        "\n",
        "\n",
        "---\n",
        "\n"
      ]
    },
    {
      "metadata": {
        "id": "7VO3YVQ2amyP",
        "colab_type": "text"
      },
      "cell_type": "markdown",
      "source": [
        "Normalize the values of each input from range <0;255> given by keras module, to <0;1> range so that it is convinient for the softmax classifier."
      ]
    },
    {
      "metadata": {
        "id": "5RsUJDHRam6Q",
        "colab_type": "code",
        "colab": {}
      },
      "cell_type": "code",
      "source": [
        "normalized_train_images = train_images.astype('float') / 255\n",
        "normalized_test_images = test_images.astype('float') / 255"
      ],
      "execution_count": 0,
      "outputs": []
    },
    {
      "metadata": {
        "id": "ftdkfZWLanAw",
        "colab_type": "text"
      },
      "cell_type": "markdown",
      "source": [
        "\n",
        "\n",
        "---\n",
        "\n"
      ]
    },
    {
      "metadata": {
        "id": "oiFBjb2QbY9-",
        "colab_type": "text"
      },
      "cell_type": "markdown",
      "source": [
        "Encode the labels categorically"
      ]
    },
    {
      "metadata": {
        "id": "PP3CPpdcbZDS",
        "colab_type": "code",
        "colab": {}
      },
      "cell_type": "code",
      "source": [
        "from keras.utils import to_categorical\n",
        "\n",
        "train_labels = to_categorical(train_labels)\n",
        "test_labels = to_categorical(test_labels)"
      ],
      "execution_count": 0,
      "outputs": []
    },
    {
      "metadata": {
        "id": "UeMAbIV_bZH6",
        "colab_type": "text"
      },
      "cell_type": "markdown",
      "source": [
        "\n",
        "\n",
        "---\n",
        "\n"
      ]
    },
    {
      "metadata": {
        "id": "q1-Twe22bzhB",
        "colab_type": "text"
      },
      "cell_type": "markdown",
      "source": [
        "Perform the actual learning by invoking the fit() method upon the network model. "
      ]
    },
    {
      "metadata": {
        "id": "rAyieU0ObzlO",
        "colab_type": "code",
        "colab": {
          "base_uri": "https://localhost:8080/",
          "height": 204
        },
        "outputId": "a5528f48-010f-4648-ed2b-26d2213369d3"
      },
      "cell_type": "code",
      "source": [
        "network.fit(normalized_train_images, train_labels, epochs=5, batch_size=128)"
      ],
      "execution_count": 9,
      "outputs": [
        {
          "output_type": "stream",
          "text": [
            "Epoch 1/5\n",
            "60000/60000 [==============================] - 4s 60us/step - loss: 0.2576 - acc: 0.9244\n",
            "Epoch 2/5\n",
            "60000/60000 [==============================] - 3s 46us/step - loss: 0.1037 - acc: 0.9687\n",
            "Epoch 3/5\n",
            "60000/60000 [==============================] - 3s 46us/step - loss: 0.0675 - acc: 0.9799\n",
            "Epoch 4/5\n",
            "60000/60000 [==============================] - 3s 46us/step - loss: 0.0495 - acc: 0.9849\n",
            "Epoch 5/5\n",
            "60000/60000 [==============================] - 3s 46us/step - loss: 0.0368 - acc: 0.9893\n"
          ],
          "name": "stdout"
        },
        {
          "output_type": "execute_result",
          "data": {
            "text/plain": [
              "<keras.callbacks.History at 0x7faf2d9759e8>"
            ]
          },
          "metadata": {
            "tags": []
          },
          "execution_count": 9
        }
      ]
    },
    {
      "metadata": {
        "id": "IfnOnPjFbzpj",
        "colab_type": "text"
      },
      "cell_type": "markdown",
      "source": [
        "\n",
        "\n",
        "---\n",
        "\n"
      ]
    },
    {
      "metadata": {
        "id": "ElMaPLR3cURy",
        "colab_type": "text"
      },
      "cell_type": "markdown",
      "source": [
        "Check the performence on the test dataset"
      ]
    },
    {
      "metadata": {
        "id": "gw9gcjHJcVBb",
        "colab_type": "code",
        "colab": {
          "base_uri": "https://localhost:8080/",
          "height": 51
        },
        "outputId": "1a4e0273-c93f-4192-e3ab-3fd4c72828e8"
      },
      "cell_type": "code",
      "source": [
        "loss, accuracy = network.evaluate(normalized_test_images, test_labels)\n",
        "print('The accuracy on test data: {}'.format(accuracy))"
      ],
      "execution_count": 10,
      "outputs": [
        {
          "output_type": "stream",
          "text": [
            "10000/10000 [==============================] - 1s 72us/step\n",
            "The accuracy on test data: 0.9769\n"
          ],
          "name": "stdout"
        }
      ]
    },
    {
      "metadata": {
        "id": "RpESErybcVJe",
        "colab_type": "text"
      },
      "cell_type": "markdown",
      "source": [
        "\n",
        "\n",
        "---\n",
        "\n"
      ]
    },
    {
      "metadata": {
        "id": "dT8pDHeq6QEE",
        "colab_type": "text"
      },
      "cell_type": "markdown",
      "source": [
        "# Optional\n",
        "\n",
        "---\n",
        "\n"
      ]
    },
    {
      "metadata": {
        "id": "wCUFrEAS4QAW",
        "colab_type": "text"
      },
      "cell_type": "markdown",
      "source": [
        "Display random digit image from the train set"
      ]
    },
    {
      "metadata": {
        "id": "THOCYmKbwh2m",
        "colab_type": "code",
        "colab": {
          "base_uri": "https://localhost:8080/",
          "height": 398
        },
        "outputId": "15b39dfe-fe9f-44d2-c5ef-bd9777042b8f"
      },
      "cell_type": "code",
      "source": [
        "from random import randint\n",
        "import matplotlib.pyplot as plt\n",
        "from keras.datasets import mnist\n",
        "\n",
        "(train_images, train_labels), (test_images, test_labels) = mnist.load_data()\n",
        "\n",
        "randomIndex = randint(0, len(train_images) - 1)\n",
        "print('index: ', randomIndex)\n",
        "print('label: ', train_labels[randomIndex])\n",
        "\n",
        "plt.figure().gca().grid(False)\n",
        "plt.imshow(train_images[randomIndex])"
      ],
      "execution_count": 11,
      "outputs": [
        {
          "output_type": "stream",
          "text": [
            "index:  7323\n",
            "label:  5\n"
          ],
          "name": "stdout"
        },
        {
          "output_type": "execute_result",
          "data": {
            "text/plain": [
              "<matplotlib.image.AxesImage at 0x7faf2d71bd68>"
            ]
          },
          "metadata": {
            "tags": []
          },
          "execution_count": 11
        },
        {
          "output_type": "display_data",
          "data": {
            "image/png": "[encoded data removed]",
            "text/plain": [
              "<matplotlib.figure.Figure at 0x7faf2d71bd30>"
            ]
          },
          "metadata": {
            "tags": []
          }
        }
      ]
    }
  ]
}