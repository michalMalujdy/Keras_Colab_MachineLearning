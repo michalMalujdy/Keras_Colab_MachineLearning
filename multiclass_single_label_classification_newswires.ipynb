{
  "nbformat": 4,
  "nbformat_minor": 0,
  "metadata": {
    "colab": {
      "name": "multiclass-single-label-classification-newswires.ipynb",
      "version": "0.3.2",
      "provenance": [],
      "collapsed_sections": [],
      "include_colab_link": true
    },
    "kernelspec": {
      "name": "python3",
      "display_name": "Python 3"
    },
    "accelerator": "GPU"
  },
  "cells": [
    {
      "cell_type": "markdown",
      "metadata": {
        "id": "view-in-github",
        "colab_type": "text"
      },
      "source": [
        "<a href=\"https://colab.research.google.com/github/michalMalujdy/machine-learning-colab/blob/master/multiclass_single_label_classification_newswires.ipynb\" target=\"_parent\"><img src=\"https://colab.research.google.com/assets/colab-badge.svg\" alt=\"Open In Colab\"/></a>"
      ]
    },
    {
      "metadata": {
        "id": "cvmJqH8Qx-QH",
        "colab_type": "code",
        "colab": {}
      },
      "cell_type": "code",
      "source": [
        "from keras.datasets import reuters\n",
        "\n",
        "(train_data, train_labels), (test_data, test_labels) = reuters.load_data(num_words=10000)"
      ],
      "execution_count": 0,
      "outputs": []
    },
    {
      "metadata": {
        "id": "z0D8V6dXNJPN",
        "colab_type": "text"
      },
      "cell_type": "markdown",
      "source": [
        "\n",
        "\n",
        "---\n",
        "\n"
      ]
    },
    {
      "metadata": {
        "id": "5yGfvr1aNJ9F",
        "colab_type": "code",
        "colab": {}
      },
      "cell_type": "code",
      "source": [
        "import numpy as np\n",
        "\n",
        "def vectorize_sequences(sequences, dimension=10000):\n",
        "  results = np.zeros((len(sequences), dimension))\n",
        "  for i, sequence in enumerate(sequences):\n",
        "    results[i, sequence] = 1.\n",
        "    return results\n",
        "\n",
        "x_train = vectorize_sequences(train_data)\n",
        "x_test = vectorize_sequences(test_data)"
      ],
      "execution_count": 0,
      "outputs": []
    },
    {
      "metadata": {
        "id": "gZaWxaH9NKEV",
        "colab_type": "text"
      },
      "cell_type": "markdown",
      "source": [
        "\n",
        "\n",
        "---\n",
        "\n"
      ]
    },
    {
      "metadata": {
        "id": "1qf7KFt2Nivz",
        "colab_type": "code",
        "colab": {}
      },
      "cell_type": "code",
      "source": [
        "from keras.utils.np_utils import to_categorical\n",
        "\n",
        "one_hot_train_labels = to_categorical(train_labels)\n",
        "one_hot_test_labels = to_categorical(test_labels)"
      ],
      "execution_count": 0,
      "outputs": []
    },
    {
      "metadata": {
        "id": "YrpXvBACNi1X",
        "colab_type": "text"
      },
      "cell_type": "markdown",
      "source": [
        "\n",
        "\n",
        "---\n",
        "\n"
      ]
    },
    {
      "metadata": {
        "id": "njPEqbPxNmxL",
        "colab_type": "code",
        "colab": {}
      },
      "cell_type": "code",
      "source": [
        "from keras import models\n",
        "from keras import layers\n",
        "\n",
        "model = models.Sequential()\n",
        "model.add(layers.Dense(64, activation='relu', input_shape=(10000,)))\n",
        "model.add(layers.Dense(64, activation='relu'))\n",
        "model.add(layers.Dense(46, activation='softmax'))"
      ],
      "execution_count": 0,
      "outputs": []
    },
    {
      "metadata": {
        "id": "97XGWyGNNm5g",
        "colab_type": "text"
      },
      "cell_type": "markdown",
      "source": [
        "\n",
        "\n",
        "---\n",
        "\n"
      ]
    },
    {
      "metadata": {
        "id": "HhuAZsIDN1fj",
        "colab_type": "code",
        "colab": {}
      },
      "cell_type": "code",
      "source": [
        "model.compile(optimizer='rmsprop',\n",
        "loss='categorical_crossentropy',\n",
        "metrics=['accuracy'])"
      ],
      "execution_count": 0,
      "outputs": []
    },
    {
      "metadata": {
        "id": "TzhyUSWsN2XO",
        "colab_type": "text"
      },
      "cell_type": "markdown",
      "source": [
        "\n",
        "\n",
        "---\n",
        "\n"
      ]
    },
    {
      "metadata": {
        "id": "wN2LxZv0N7_n",
        "colab_type": "code",
        "colab": {}
      },
      "cell_type": "code",
      "source": [
        "x_val = x_train[:1000]\n",
        "partial_x_train = x_train[1000:]\n",
        "y_val = one_hot_train_labels[:1000]\n",
        "partial_y_train = one_hot_train_labels[1000:]"
      ],
      "execution_count": 0,
      "outputs": []
    },
    {
      "metadata": {
        "id": "jqV5x5KqN-1V",
        "colab_type": "text"
      },
      "cell_type": "markdown",
      "source": [
        "\n",
        "\n",
        "---\n",
        "\n"
      ]
    },
    {
      "metadata": {
        "id": "l42M52uQOEBF",
        "colab_type": "code",
        "outputId": "79707ecc-6c34-45fc-83b0-353e51b17802",
        "colab": {
          "base_uri": "https://localhost:8080/",
          "height": 714
        }
      },
      "cell_type": "code",
      "source": [
        "history = model.fit(partial_x_train,\n",
        "                    partial_y_train,\n",
        "                    epochs=20,\n",
        "                    batch_size=512,\n",
        "                    validation_data=(x_val, y_val))"
      ],
      "execution_count": 0,
      "outputs": [
        {
          "output_type": "stream",
          "text": [
            "Train on 7982 samples, validate on 1000 samples\n",
            "Epoch 1/20\n",
            "7982/7982 [==============================] - 2s 231us/step - loss: 3.8118 - acc: 0.0680 - val_loss: 3.7977 - val_acc: 0.0590\n",
            "Epoch 2/20\n",
            "7982/7982 [==============================] - 1s 81us/step - loss: 3.7880 - acc: 0.1054 - val_loss: 3.7768 - val_acc: 0.2230\n",
            "Epoch 3/20\n",
            "7982/7982 [==============================] - 1s 101us/step - loss: 3.7675 - acc: 0.2164 - val_loss: 3.7569 - val_acc: 0.2230\n",
            "Epoch 4/20\n",
            "7982/7982 [==============================] - 1s 125us/step - loss: 3.7476 - acc: 0.2164 - val_loss: 3.7371 - val_acc: 0.2230\n",
            "Epoch 5/20\n",
            "7982/7982 [==============================] - 1s 113us/step - loss: 3.7279 - acc: 0.2313 - val_loss: 3.7176 - val_acc: 0.2230\n",
            "Epoch 6/20\n",
            "7982/7982 [==============================] - 1s 82us/step - loss: 3.7084 - acc: 0.2245 - val_loss: 3.6981 - val_acc: 0.3540\n",
            "Epoch 7/20\n",
            "7982/7982 [==============================] - 1s 88us/step - loss: 3.6889 - acc: 0.2278 - val_loss: 3.6788 - val_acc: 0.3540\n",
            "Epoch 8/20\n",
            "7982/7982 [==============================] - 1s 77us/step - loss: 3.6696 - acc: 0.3183 - val_loss: 3.6596 - val_acc: 0.2230\n",
            "Epoch 9/20\n",
            "7982/7982 [==============================] - 1s 77us/step - loss: 3.6504 - acc: 0.2350 - val_loss: 3.6406 - val_acc: 0.3540\n",
            "Epoch 10/20\n",
            "7982/7982 [==============================] - 1s 84us/step - loss: 3.6314 - acc: 0.3365 - val_loss: 3.6217 - val_acc: 0.3540\n",
            "Epoch 11/20\n",
            "7982/7982 [==============================] - 1s 92us/step - loss: 3.6126 - acc: 0.3027 - val_loss: 3.6031 - val_acc: 0.3540\n",
            "Epoch 12/20\n",
            "1024/7982 [==>...........................] - ETA: 0s - loss: 3.6021 - acc: 0.3506"
          ],
          "name": "stdout"
        },
        {
          "output_type": "stream",
          "text": [
            "7982/7982 [==============================] - 1s 102us/step - loss: 3.5939 - acc: 0.3514 - val_loss: 3.5845 - val_acc: 0.3540\n",
            "Epoch 13/20\n",
            "7982/7982 [==============================] - 1s 100us/step - loss: 3.5754 - acc: 0.3514 - val_loss: 3.5661 - val_acc: 0.3540\n",
            "Epoch 14/20\n",
            "7982/7982 [==============================] - 1s 77us/step - loss: 3.5570 - acc: 0.3409 - val_loss: 3.5479 - val_acc: 0.3540\n",
            "Epoch 15/20\n",
            "7982/7982 [==============================] - 1s 78us/step - loss: 3.5388 - acc: 0.3406 - val_loss: 3.5298 - val_acc: 0.3540\n",
            "Epoch 16/20\n",
            "7982/7982 [==============================] - 1s 76us/step - loss: 3.5207 - acc: 0.3514 - val_loss: 3.5117 - val_acc: 0.3540\n",
            "Epoch 17/20\n",
            "7982/7982 [==============================] - 1s 82us/step - loss: 3.5028 - acc: 0.3514 - val_loss: 3.4939 - val_acc: 0.3540\n",
            "Epoch 18/20\n",
            "7982/7982 [==============================] - 1s 81us/step - loss: 3.4850 - acc: 0.3514 - val_loss: 3.4762 - val_acc: 0.3540\n",
            "Epoch 19/20\n",
            "7982/7982 [==============================] - 1s 91us/step - loss: 3.4675 - acc: 0.3514 - val_loss: 3.4589 - val_acc: 0.3540\n",
            "Epoch 20/20\n",
            "7982/7982 [==============================] - 1s 85us/step - loss: 3.4501 - acc: 0.3514 - val_loss: 3.4414 - val_acc: 0.3540\n"
          ],
          "name": "stdout"
        }
      ]
    },
    {
      "metadata": {
        "id": "XFgmFYbYOEG5",
        "colab_type": "text"
      },
      "cell_type": "markdown",
      "source": [
        "\n",
        "\n",
        "---\n",
        "\n"
      ]
    },
    {
      "metadata": {
        "id": "CEpZ8ji9OLer",
        "colab_type": "code",
        "outputId": "9278c971-1f56-4f30-8fdb-7fc66ddfab56",
        "colab": {
          "base_uri": "https://localhost:8080/",
          "height": 376
        }
      },
      "cell_type": "code",
      "source": [
        "import matplotlib.pyplot as plt\n",
        "\n",
        "loss = history.history['loss']\n",
        "val_loss = history.history['val_loss']\n",
        "\n",
        "epochs = range(1, len(loss) + 1)\n",
        "plt.plot(epochs, loss, 'bo', label='Training loss')\n",
        "plt.plot(epochs, val_loss, 'b', label='Validation loss')\n",
        "plt.title('Training and validation loss')\n",
        "plt.xlabel('Epochs')\n",
        "plt.ylabel('Loss')\n",
        "plt.legend()\n",
        "plt.show()"
      ],
      "execution_count": 0,
      "outputs": [
        {
          "output_type": "display_data",
          "data": {
            "image/png": "[encoded data removed]",
            "text/plain": [
              "<matplotlib.figure.Figure at 0x7f9507d5a668>"
            ]
          },
          "metadata": {
            "tags": []
          }
        }
      ]
    },
    {
      "metadata": {
        "id": "p_fv89K-OLov",
        "colab_type": "text"
      },
      "cell_type": "markdown",
      "source": [
        "\n",
        "\n",
        "---\n",
        "\n"
      ]
    }
  ]
}